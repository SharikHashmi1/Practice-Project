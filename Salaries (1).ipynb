{
 "cells": [
  {
   "cell_type": "code",
   "execution_count": 46,
   "id": "02da61d3",
   "metadata": {},
   "outputs": [],
   "source": [
    "import pandas as pd\n",
    "import numpy as np\n",
    "import matplotlib.pyplot as plt\n",
    "import seaborn as sns\n",
    "import warnings\n",
    "warnings.filterwarnings('ignore')\n",
    "from sklearn.model_selection import train_test_split\n",
    "from sklearn.linear_model import LinearRegression\n",
    "from sklearn.metrics import r2_score,mean_absolute_error,mean_squared_error"
   ]
  },
  {
   "cell_type": "markdown",
   "id": "a8b4bf8a",
   "metadata": {},
   "source": [
    "# Importing the csv file"
   ]
  },
  {
   "cell_type": "code",
   "execution_count": 2,
   "id": "2b4a38ba",
   "metadata": {},
   "outputs": [
    {
     "data": {
      "text/html": [
       "<div>\n",
       "<style scoped>\n",
       "    .dataframe tbody tr th:only-of-type {\n",
       "        vertical-align: middle;\n",
       "    }\n",
       "\n",
       "    .dataframe tbody tr th {\n",
       "        vertical-align: top;\n",
       "    }\n",
       "\n",
       "    .dataframe thead th {\n",
       "        text-align: right;\n",
       "    }\n",
       "</style>\n",
       "<table border=\"1\" class=\"dataframe\">\n",
       "  <thead>\n",
       "    <tr style=\"text-align: right;\">\n",
       "      <th></th>\n",
       "      <th>rank</th>\n",
       "      <th>discipline</th>\n",
       "      <th>yrs.since.phd</th>\n",
       "      <th>yrs.service</th>\n",
       "      <th>sex</th>\n",
       "      <th>salary</th>\n",
       "    </tr>\n",
       "  </thead>\n",
       "  <tbody>\n",
       "    <tr>\n",
       "      <th>0</th>\n",
       "      <td>Prof</td>\n",
       "      <td>B</td>\n",
       "      <td>19</td>\n",
       "      <td>18</td>\n",
       "      <td>Male</td>\n",
       "      <td>139750</td>\n",
       "    </tr>\n",
       "    <tr>\n",
       "      <th>1</th>\n",
       "      <td>Prof</td>\n",
       "      <td>B</td>\n",
       "      <td>20</td>\n",
       "      <td>16</td>\n",
       "      <td>Male</td>\n",
       "      <td>173200</td>\n",
       "    </tr>\n",
       "    <tr>\n",
       "      <th>2</th>\n",
       "      <td>AsstProf</td>\n",
       "      <td>B</td>\n",
       "      <td>4</td>\n",
       "      <td>3</td>\n",
       "      <td>Male</td>\n",
       "      <td>79750</td>\n",
       "    </tr>\n",
       "    <tr>\n",
       "      <th>3</th>\n",
       "      <td>Prof</td>\n",
       "      <td>B</td>\n",
       "      <td>45</td>\n",
       "      <td>39</td>\n",
       "      <td>Male</td>\n",
       "      <td>115000</td>\n",
       "    </tr>\n",
       "    <tr>\n",
       "      <th>4</th>\n",
       "      <td>Prof</td>\n",
       "      <td>B</td>\n",
       "      <td>40</td>\n",
       "      <td>41</td>\n",
       "      <td>Male</td>\n",
       "      <td>141500</td>\n",
       "    </tr>\n",
       "  </tbody>\n",
       "</table>\n",
       "</div>"
      ],
      "text/plain": [
       "       rank discipline  yrs.since.phd  yrs.service   sex  salary\n",
       "0      Prof          B             19           18  Male  139750\n",
       "1      Prof          B             20           16  Male  173200\n",
       "2  AsstProf          B              4            3  Male   79750\n",
       "3      Prof          B             45           39  Male  115000\n",
       "4      Prof          B             40           41  Male  141500"
      ]
     },
     "execution_count": 2,
     "metadata": {},
     "output_type": "execute_result"
    }
   ],
   "source": [
    "df=pd.read_csv('salaries.csv')\n",
    "df.head()"
   ]
  },
  {
   "cell_type": "code",
   "execution_count": 3,
   "id": "68187f13",
   "metadata": {},
   "outputs": [
    {
     "data": {
      "text/html": [
       "<div>\n",
       "<style scoped>\n",
       "    .dataframe tbody tr th:only-of-type {\n",
       "        vertical-align: middle;\n",
       "    }\n",
       "\n",
       "    .dataframe tbody tr th {\n",
       "        vertical-align: top;\n",
       "    }\n",
       "\n",
       "    .dataframe thead th {\n",
       "        text-align: right;\n",
       "    }\n",
       "</style>\n",
       "<table border=\"1\" class=\"dataframe\">\n",
       "  <thead>\n",
       "    <tr style=\"text-align: right;\">\n",
       "      <th></th>\n",
       "      <th>rank</th>\n",
       "      <th>discipline</th>\n",
       "      <th>yrs.since.phd</th>\n",
       "      <th>yrs.service</th>\n",
       "      <th>sex</th>\n",
       "      <th>salary</th>\n",
       "    </tr>\n",
       "  </thead>\n",
       "  <tbody>\n",
       "    <tr>\n",
       "      <th>392</th>\n",
       "      <td>Prof</td>\n",
       "      <td>A</td>\n",
       "      <td>33</td>\n",
       "      <td>30</td>\n",
       "      <td>Male</td>\n",
       "      <td>103106</td>\n",
       "    </tr>\n",
       "    <tr>\n",
       "      <th>393</th>\n",
       "      <td>Prof</td>\n",
       "      <td>A</td>\n",
       "      <td>31</td>\n",
       "      <td>19</td>\n",
       "      <td>Male</td>\n",
       "      <td>150564</td>\n",
       "    </tr>\n",
       "    <tr>\n",
       "      <th>394</th>\n",
       "      <td>Prof</td>\n",
       "      <td>A</td>\n",
       "      <td>42</td>\n",
       "      <td>25</td>\n",
       "      <td>Male</td>\n",
       "      <td>101738</td>\n",
       "    </tr>\n",
       "    <tr>\n",
       "      <th>395</th>\n",
       "      <td>Prof</td>\n",
       "      <td>A</td>\n",
       "      <td>25</td>\n",
       "      <td>15</td>\n",
       "      <td>Male</td>\n",
       "      <td>95329</td>\n",
       "    </tr>\n",
       "    <tr>\n",
       "      <th>396</th>\n",
       "      <td>AsstProf</td>\n",
       "      <td>A</td>\n",
       "      <td>8</td>\n",
       "      <td>4</td>\n",
       "      <td>Male</td>\n",
       "      <td>81035</td>\n",
       "    </tr>\n",
       "  </tbody>\n",
       "</table>\n",
       "</div>"
      ],
      "text/plain": [
       "         rank discipline  yrs.since.phd  yrs.service   sex  salary\n",
       "392      Prof          A             33           30  Male  103106\n",
       "393      Prof          A             31           19  Male  150564\n",
       "394      Prof          A             42           25  Male  101738\n",
       "395      Prof          A             25           15  Male   95329\n",
       "396  AsstProf          A              8            4  Male   81035"
      ]
     },
     "execution_count": 3,
     "metadata": {},
     "output_type": "execute_result"
    }
   ],
   "source": [
    "df.tail()"
   ]
  },
  {
   "cell_type": "code",
   "execution_count": 4,
   "id": "09a2e3cd",
   "metadata": {},
   "outputs": [
    {
     "data": {
      "text/html": [
       "<div>\n",
       "<style scoped>\n",
       "    .dataframe tbody tr th:only-of-type {\n",
       "        vertical-align: middle;\n",
       "    }\n",
       "\n",
       "    .dataframe tbody tr th {\n",
       "        vertical-align: top;\n",
       "    }\n",
       "\n",
       "    .dataframe thead th {\n",
       "        text-align: right;\n",
       "    }\n",
       "</style>\n",
       "<table border=\"1\" class=\"dataframe\">\n",
       "  <thead>\n",
       "    <tr style=\"text-align: right;\">\n",
       "      <th></th>\n",
       "      <th>rank</th>\n",
       "      <th>discipline</th>\n",
       "      <th>yrs.since.phd</th>\n",
       "      <th>yrs.service</th>\n",
       "      <th>sex</th>\n",
       "      <th>salary</th>\n",
       "    </tr>\n",
       "  </thead>\n",
       "  <tbody>\n",
       "    <tr>\n",
       "      <th>180</th>\n",
       "      <td>Prof</td>\n",
       "      <td>B</td>\n",
       "      <td>11</td>\n",
       "      <td>11</td>\n",
       "      <td>Male</td>\n",
       "      <td>142467</td>\n",
       "    </tr>\n",
       "    <tr>\n",
       "      <th>252</th>\n",
       "      <td>Prof</td>\n",
       "      <td>A</td>\n",
       "      <td>31</td>\n",
       "      <td>12</td>\n",
       "      <td>Male</td>\n",
       "      <td>132000</td>\n",
       "    </tr>\n",
       "  </tbody>\n",
       "</table>\n",
       "</div>"
      ],
      "text/plain": [
       "     rank discipline  yrs.since.phd  yrs.service   sex  salary\n",
       "180  Prof          B             11           11  Male  142467\n",
       "252  Prof          A             31           12  Male  132000"
      ]
     },
     "execution_count": 4,
     "metadata": {},
     "output_type": "execute_result"
    }
   ],
   "source": [
    "\n",
    "df.sample(2)"
   ]
  },
  {
   "cell_type": "code",
   "execution_count": 5,
   "id": "7c9f183c",
   "metadata": {},
   "outputs": [
    {
     "data": {
      "text/plain": [
       "(397, 6)"
      ]
     },
     "execution_count": 5,
     "metadata": {},
     "output_type": "execute_result"
    }
   ],
   "source": [
    "df.shape"
   ]
  },
  {
   "cell_type": "code",
   "execution_count": 6,
   "id": "9078251a",
   "metadata": {},
   "outputs": [
    {
     "data": {
      "text/plain": [
       "Index(['rank', 'discipline', 'yrs.since.phd', 'yrs.service', 'sex', 'salary'], dtype='object')"
      ]
     },
     "execution_count": 6,
     "metadata": {},
     "output_type": "execute_result"
    }
   ],
   "source": [
    "df.columns"
   ]
  },
  {
   "cell_type": "code",
   "execution_count": 7,
   "id": "f7eeac2c",
   "metadata": {},
   "outputs": [
    {
     "name": "stdout",
     "output_type": "stream",
     "text": [
      "<class 'pandas.core.frame.DataFrame'>\n",
      "RangeIndex: 397 entries, 0 to 396\n",
      "Data columns (total 6 columns):\n",
      " #   Column         Non-Null Count  Dtype \n",
      "---  ------         --------------  ----- \n",
      " 0   rank           397 non-null    object\n",
      " 1   discipline     397 non-null    object\n",
      " 2   yrs.since.phd  397 non-null    int64 \n",
      " 3   yrs.service    397 non-null    int64 \n",
      " 4   sex            397 non-null    object\n",
      " 5   salary         397 non-null    int64 \n",
      "dtypes: int64(3), object(3)\n",
      "memory usage: 18.7+ KB\n"
     ]
    }
   ],
   "source": [
    "df.info()"
   ]
  },
  {
   "cell_type": "code",
   "execution_count": 8,
   "id": "e78e6024",
   "metadata": {},
   "outputs": [
    {
     "data": {
      "text/plain": [
       "rank             object\n",
       "discipline       object\n",
       "yrs.since.phd     int64\n",
       "yrs.service       int64\n",
       "sex              object\n",
       "salary            int64\n",
       "dtype: object"
      ]
     },
     "execution_count": 8,
     "metadata": {},
     "output_type": "execute_result"
    }
   ],
   "source": [
    "\n",
    "df.dtypes"
   ]
  },
  {
   "cell_type": "code",
   "execution_count": 9,
   "id": "f66dec31",
   "metadata": {},
   "outputs": [
    {
     "data": {
      "text/plain": [
       "rank             0\n",
       "discipline       0\n",
       "yrs.since.phd    0\n",
       "yrs.service      0\n",
       "sex              0\n",
       "salary           0\n",
       "dtype: int64"
      ]
     },
     "execution_count": 9,
     "metadata": {},
     "output_type": "execute_result"
    }
   ],
   "source": [
    "df.isnull().sum()"
   ]
  },
  {
   "cell_type": "code",
   "execution_count": 10,
   "id": "34765908",
   "metadata": {},
   "outputs": [
    {
     "data": {
      "text/plain": [
       "<AxesSubplot:>"
      ]
     },
     "execution_count": 10,
     "metadata": {},
     "output_type": "execute_result"
    },
    {
     "data": {
      "image/png": "[encoded data removed]",
      "text/plain": [
       "<Figure size 432x288 with 2 Axes>"
      ]
     },
     "metadata": {
      "needs_background": "light"
     },
     "output_type": "display_data"
    }
   ],
   "source": [
    "sns.heatmap(df.isnull())"
   ]
  },
  {
   "cell_type": "markdown",
   "id": "282bab05",
   "metadata": {},
   "source": [
    "# count the number of ranks"
   ]
  },
  {
   "cell_type": "code",
   "execution_count": 11,
   "id": "985065ee",
   "metadata": {},
   "outputs": [
    {
     "name": "stdout",
     "output_type": "stream",
     "text": [
      "The number of unique ranks: 3\n"
     ]
    }
   ],
   "source": [
    "df['rank'].nunique()\n",
    "print('The number of unique ranks:',df['rank'].nunique())"
   ]
  },
  {
   "cell_type": "code",
   "execution_count": 12,
   "id": "5aab824d",
   "metadata": {},
   "outputs": [
    {
     "data": {
      "text/plain": [
       "<AxesSubplot:title={'center':'Count plot for Ranks'}, xlabel='rank', ylabel='count'>"
      ]
     },
     "execution_count": 12,
     "metadata": {},
     "output_type": "execute_result"
    },
    {
     "data": {
      "image/png": "[encoded data removed]",
      "text/plain": [
       "<Figure size 720x504 with 1 Axes>"
      ]
     },
     "metadata": {
      "needs_background": "light"
     },
     "output_type": "display_data"
    }
   ],
   "source": [
    "#count plot for different Ranks\n",
    "\n",
    "plt.figure(figsize=(10,7))\n",
    "plt.title('Count plot for Ranks')\n",
    "sns.countplot(df['rank'])"
   ]
  },
  {
   "cell_type": "code",
   "execution_count": 13,
   "id": "b3f12a14",
   "metadata": {},
   "outputs": [
    {
     "data": {
      "text/plain": [
       "<AxesSubplot:xlabel='sex', ylabel='count'>"
      ]
     },
     "execution_count": 13,
     "metadata": {},
     "output_type": "execute_result"
    },
    {
     "data": {
      "image/png": "[encoded data removed]",
      "text/plain": [
       "<Figure size 432x288 with 1 Axes>"
      ]
     },
     "metadata": {
      "needs_background": "light"
     },
     "output_type": "display_data"
    }
   ],
   "source": [
    "#Ratio of Male and Female\n",
    "\n",
    "sns.countplot(df['sex'])"
   ]
  },
  {
   "cell_type": "markdown",
   "id": "25d71387",
   "metadata": {},
   "source": [
    "From the above plot we can see that the ratio of male is more than female.\n",
    "\n"
   ]
  },
  {
   "cell_type": "markdown",
   "id": "92ae0876",
   "metadata": {},
   "source": [
    "# Label Encoder\n",
    "\n",
    "\n",
    "we have to convert our categorical data in to Numerical data.\n",
    "so we use Label Encoder"
   ]
  },
  {
   "cell_type": "code",
   "execution_count": 14,
   "id": "d0890242",
   "metadata": {},
   "outputs": [],
   "source": [
    "from sklearn.preprocessing import LabelEncoder\n",
    "le=LabelEncoder()"
   ]
  },
  {
   "cell_type": "code",
   "execution_count": 15,
   "id": "24016ecc",
   "metadata": {},
   "outputs": [],
   "source": [
    "list=['sex','rank','discipline']\n",
    "for val in list:\n",
    "    df[val]=le.fit_transform(df[val].astype(str))"
   ]
  },
  {
   "cell_type": "code",
   "execution_count": 16,
   "id": "07397b39",
   "metadata": {},
   "outputs": [
    {
     "data": {
      "text/html": [
       "<div>\n",
       "<style scoped>\n",
       "    .dataframe tbody tr th:only-of-type {\n",
       "        vertical-align: middle;\n",
       "    }\n",
       "\n",
       "    .dataframe tbody tr th {\n",
       "        vertical-align: top;\n",
       "    }\n",
       "\n",
       "    .dataframe thead th {\n",
       "        text-align: right;\n",
       "    }\n",
       "</style>\n",
       "<table border=\"1\" class=\"dataframe\">\n",
       "  <thead>\n",
       "    <tr style=\"text-align: right;\">\n",
       "      <th></th>\n",
       "      <th>rank</th>\n",
       "      <th>discipline</th>\n",
       "      <th>yrs.since.phd</th>\n",
       "      <th>yrs.service</th>\n",
       "      <th>sex</th>\n",
       "      <th>salary</th>\n",
       "    </tr>\n",
       "  </thead>\n",
       "  <tbody>\n",
       "    <tr>\n",
       "      <th>0</th>\n",
       "      <td>2</td>\n",
       "      <td>1</td>\n",
       "      <td>19</td>\n",
       "      <td>18</td>\n",
       "      <td>1</td>\n",
       "      <td>139750</td>\n",
       "    </tr>\n",
       "    <tr>\n",
       "      <th>1</th>\n",
       "      <td>2</td>\n",
       "      <td>1</td>\n",
       "      <td>20</td>\n",
       "      <td>16</td>\n",
       "      <td>1</td>\n",
       "      <td>173200</td>\n",
       "    </tr>\n",
       "    <tr>\n",
       "      <th>2</th>\n",
       "      <td>1</td>\n",
       "      <td>1</td>\n",
       "      <td>4</td>\n",
       "      <td>3</td>\n",
       "      <td>1</td>\n",
       "      <td>79750</td>\n",
       "    </tr>\n",
       "    <tr>\n",
       "      <th>3</th>\n",
       "      <td>2</td>\n",
       "      <td>1</td>\n",
       "      <td>45</td>\n",
       "      <td>39</td>\n",
       "      <td>1</td>\n",
       "      <td>115000</td>\n",
       "    </tr>\n",
       "    <tr>\n",
       "      <th>4</th>\n",
       "      <td>2</td>\n",
       "      <td>1</td>\n",
       "      <td>40</td>\n",
       "      <td>41</td>\n",
       "      <td>1</td>\n",
       "      <td>141500</td>\n",
       "    </tr>\n",
       "  </tbody>\n",
       "</table>\n",
       "</div>"
      ],
      "text/plain": [
       "   rank  discipline  yrs.since.phd  yrs.service  sex  salary\n",
       "0     2           1             19           18    1  139750\n",
       "1     2           1             20           16    1  173200\n",
       "2     1           1              4            3    1   79750\n",
       "3     2           1             45           39    1  115000\n",
       "4     2           1             40           41    1  141500"
      ]
     },
     "execution_count": 16,
     "metadata": {},
     "output_type": "execute_result"
    }
   ],
   "source": [
    "df.head()"
   ]
  },
  {
   "cell_type": "markdown",
   "id": "6eb0afd3",
   "metadata": {},
   "source": [
    "# Checking the Skewness: ruko"
   ]
  },
  {
   "cell_type": "code",
   "execution_count": 17,
   "id": "631a6640",
   "metadata": {},
   "outputs": [
    {
     "data": {
      "text/plain": [
       "<AxesSubplot:xlabel='yrs.service', ylabel='Density'>"
      ]
     },
     "execution_count": 17,
     "metadata": {},
     "output_type": "execute_result"
    },
    {
     "data": {
      "image/png": "[encoded data removed]",
      "text/plain": [
       "<Figure size 432x288 with 1 Axes>"
      ]
     },
     "metadata": {
      "needs_background": "light"
     },
     "output_type": "display_data"
    }
   ],
   "source": [
    "sns.distplot(df['yrs.service'])"
   ]
  },
  {
   "cell_type": "code",
   "execution_count": 18,
   "id": "186f7cef",
   "metadata": {},
   "outputs": [
    {
     "data": {
      "text/plain": [
       "<AxesSubplot:xlabel='yrs.since.phd', ylabel='Density'>"
      ]
     },
     "execution_count": 18,
     "metadata": {},
     "output_type": "execute_result"
    },
    {
     "data": {
      "image/png": "[encoded data removed]",
      "text/plain": [
       "<Figure size 432x288 with 1 Axes>"
      ]
     },
     "metadata": {
      "needs_background": "light"
     },
     "output_type": "display_data"
    }
   ],
   "source": [
    "sns.distplot(df['yrs.since.phd'])"
   ]
  },
  {
   "cell_type": "code",
   "execution_count": 19,
   "id": "12dd4320",
   "metadata": {},
   "outputs": [
    {
     "data": {
      "text/plain": [
       "<AxesSubplot:xlabel='rank', ylabel='Density'>"
      ]
     },
     "execution_count": 19,
     "metadata": {},
     "output_type": "execute_result"
    },
    {
     "data": {
      "image/png": "[encoded data removed]",
      "text/plain": [
       "<Figure size 432x288 with 1 Axes>"
      ]
     },
     "metadata": {
      "needs_background": "light"
     },
     "output_type": "display_data"
    }
   ],
   "source": [
    "sns.distplot(df['rank'])"
   ]
  },
  {
   "cell_type": "code",
   "execution_count": 20,
   "id": "97509b0d",
   "metadata": {},
   "outputs": [
    {
     "data": {
      "text/plain": [
       "<AxesSubplot:xlabel='discipline', ylabel='Density'>"
      ]
     },
     "execution_count": 20,
     "metadata": {},
     "output_type": "execute_result"
    },
    {
     "data": {
      "image/png": "[encoded data removed]",
      "text/plain": [
       "<Figure size 432x288 with 1 Axes>"
      ]
     },
     "metadata": {
      "needs_background": "light"
     },
     "output_type": "display_data"
    }
   ],
   "source": [
    "sns.distplot(df['discipline'])"
   ]
  },
  {
   "cell_type": "code",
   "execution_count": 21,
   "id": "40289387",
   "metadata": {},
   "outputs": [
    {
     "data": {
      "image/png": "[encoded data removed]",
      "text/plain": [
       "<Figure size 432x288 with 1 Axes>"
      ]
     },
     "metadata": {
      "needs_background": "light"
     },
     "output_type": "display_data"
    }
   ],
   "source": [
    "# relation b/w yrs of servie and rank\n",
    "\n",
    "sns.scatterplot(df['yrs.service'],df['rank'])\n",
    "plt.show()"
   ]
  },
  {
   "cell_type": "markdown",
   "id": "683aded2",
   "metadata": {},
   "source": [
    "# Correlation \n",
    "\n",
    "checking the correlation of the data"
   ]
  },
  {
   "cell_type": "code",
   "execution_count": 22,
   "id": "086ece7e",
   "metadata": {},
   "outputs": [
    {
     "data": {
      "text/html": [
       "<div>\n",
       "<style scoped>\n",
       "    .dataframe tbody tr th:only-of-type {\n",
       "        vertical-align: middle;\n",
       "    }\n",
       "\n",
       "    .dataframe tbody tr th {\n",
       "        vertical-align: top;\n",
       "    }\n",
       "\n",
       "    .dataframe thead th {\n",
       "        text-align: right;\n",
       "    }\n",
       "</style>\n",
       "<table border=\"1\" class=\"dataframe\">\n",
       "  <thead>\n",
       "    <tr style=\"text-align: right;\">\n",
       "      <th></th>\n",
       "      <th>rank</th>\n",
       "      <th>discipline</th>\n",
       "      <th>yrs.since.phd</th>\n",
       "      <th>yrs.service</th>\n",
       "      <th>sex</th>\n",
       "      <th>salary</th>\n",
       "    </tr>\n",
       "  </thead>\n",
       "  <tbody>\n",
       "    <tr>\n",
       "      <th>rank</th>\n",
       "      <td>1.000000</td>\n",
       "      <td>-0.086266</td>\n",
       "      <td>0.525500</td>\n",
       "      <td>0.447499</td>\n",
       "      <td>0.132492</td>\n",
       "      <td>0.522207</td>\n",
       "    </tr>\n",
       "    <tr>\n",
       "      <th>discipline</th>\n",
       "      <td>-0.086266</td>\n",
       "      <td>1.000000</td>\n",
       "      <td>-0.218087</td>\n",
       "      <td>-0.164599</td>\n",
       "      <td>0.003724</td>\n",
       "      <td>0.156084</td>\n",
       "    </tr>\n",
       "    <tr>\n",
       "      <th>yrs.since.phd</th>\n",
       "      <td>0.525500</td>\n",
       "      <td>-0.218087</td>\n",
       "      <td>1.000000</td>\n",
       "      <td>0.909649</td>\n",
       "      <td>0.148788</td>\n",
       "      <td>0.419231</td>\n",
       "    </tr>\n",
       "    <tr>\n",
       "      <th>yrs.service</th>\n",
       "      <td>0.447499</td>\n",
       "      <td>-0.164599</td>\n",
       "      <td>0.909649</td>\n",
       "      <td>1.000000</td>\n",
       "      <td>0.153740</td>\n",
       "      <td>0.334745</td>\n",
       "    </tr>\n",
       "    <tr>\n",
       "      <th>sex</th>\n",
       "      <td>0.132492</td>\n",
       "      <td>0.003724</td>\n",
       "      <td>0.148788</td>\n",
       "      <td>0.153740</td>\n",
       "      <td>1.000000</td>\n",
       "      <td>0.138610</td>\n",
       "    </tr>\n",
       "    <tr>\n",
       "      <th>salary</th>\n",
       "      <td>0.522207</td>\n",
       "      <td>0.156084</td>\n",
       "      <td>0.419231</td>\n",
       "      <td>0.334745</td>\n",
       "      <td>0.138610</td>\n",
       "      <td>1.000000</td>\n",
       "    </tr>\n",
       "  </tbody>\n",
       "</table>\n",
       "</div>"
      ],
      "text/plain": [
       "                   rank  discipline  yrs.since.phd  yrs.service       sex  \\\n",
       "rank           1.000000   -0.086266       0.525500     0.447499  0.132492   \n",
       "discipline    -0.086266    1.000000      -0.218087    -0.164599  0.003724   \n",
       "yrs.since.phd  0.525500   -0.218087       1.000000     0.909649  0.148788   \n",
       "yrs.service    0.447499   -0.164599       0.909649     1.000000  0.153740   \n",
       "sex            0.132492    0.003724       0.148788     0.153740  1.000000   \n",
       "salary         0.522207    0.156084       0.419231     0.334745  0.138610   \n",
       "\n",
       "                 salary  \n",
       "rank           0.522207  \n",
       "discipline     0.156084  \n",
       "yrs.since.phd  0.419231  \n",
       "yrs.service    0.334745  \n",
       "sex            0.138610  \n",
       "salary         1.000000  "
      ]
     },
     "execution_count": 22,
     "metadata": {},
     "output_type": "execute_result"
    }
   ],
   "source": [
    "df.corr()"
   ]
  },
  {
   "cell_type": "code",
   "execution_count": 23,
   "id": "be9e2c73",
   "metadata": {},
   "outputs": [
    {
     "data": {
      "image/png": "[encoded data removed]",
      "text/plain": [
       "<Figure size 648x432 with 2 Axes>"
      ]
     },
     "metadata": {
      "needs_background": "light"
     },
     "output_type": "display_data"
    }
   ],
   "source": [
    "#correlation map\n",
    "\n",
    "plt.figure(figsize=(9,6))\n",
    "sns.heatmap(df.corr(),cmap='Blues',annot=True,fmt='.2g',linewidth=2,linecolor='black')\n",
    "plt.show()"
   ]
  },
  {
   "cell_type": "markdown",
   "id": "7736a2fd",
   "metadata": {},
   "source": [
    "# Data cleaning"
   ]
  },
  {
   "cell_type": "code",
   "execution_count": 24,
   "id": "a5b6aa86",
   "metadata": {},
   "outputs": [],
   "source": [
    "df.drop('sex',axis=1,inplace=True)"
   ]
  },
  {
   "cell_type": "markdown",
   "id": "a64f1f3a",
   "metadata": {},
   "source": [
    "# checking the outliers"
   ]
  },
  {
   "cell_type": "code",
   "execution_count": 25,
   "id": "3c684312",
   "metadata": {},
   "outputs": [
    {
     "data": {
      "text/plain": [
       "{'whiskers': [<matplotlib.lines.Line2D at 0x1b3e3269370>,\n",
       "  <matplotlib.lines.Line2D at 0x1b3e32696d0>],\n",
       " 'caps': [<matplotlib.lines.Line2D at 0x1b3e3269a30>,\n",
       "  <matplotlib.lines.Line2D at 0x1b3e3269d90>],\n",
       " 'boxes': [<matplotlib.lines.Line2D at 0x1b3e325cfd0>],\n",
       " 'medians': [<matplotlib.lines.Line2D at 0x1b3e30d6130>],\n",
       " 'fliers': [<matplotlib.lines.Line2D at 0x1b3e30d6490>],\n",
       " 'means': []}"
      ]
     },
     "execution_count": 25,
     "metadata": {},
     "output_type": "execute_result"
    },
    {
     "data": {
      "image/png": "[encoded data removed]",
      "text/plain": [
       "<Figure size 432x288 with 1 Axes>"
      ]
     },
     "metadata": {
      "needs_background": "light"
     },
     "output_type": "display_data"
    }
   ],
   "source": [
    "plt.boxplot(df['yrs.since.phd'])"
   ]
  },
  {
   "cell_type": "code",
   "execution_count": 26,
   "id": "92022750",
   "metadata": {},
   "outputs": [
    {
     "data": {
      "text/plain": [
       "{'whiskers': [<matplotlib.lines.Line2D at 0x1b3e3125880>,\n",
       "  <matplotlib.lines.Line2D at 0x1b3e3125c10>],\n",
       " 'caps': [<matplotlib.lines.Line2D at 0x1b3e3125f70>,\n",
       "  <matplotlib.lines.Line2D at 0x1b3e3132310>],\n",
       " 'boxes': [<matplotlib.lines.Line2D at 0x1b3e3125520>],\n",
       " 'medians': [<matplotlib.lines.Line2D at 0x1b3e3132670>],\n",
       " 'fliers': [<matplotlib.lines.Line2D at 0x1b3e31329d0>],\n",
       " 'means': []}"
      ]
     },
     "execution_count": 26,
     "metadata": {},
     "output_type": "execute_result"
    },
    {
     "data": {
      "image/png": "[encoded data removed]",
      "text/plain": [
       "<Figure size 432x288 with 1 Axes>"
      ]
     },
     "metadata": {
      "needs_background": "light"
     },
     "output_type": "display_data"
    }
   ],
   "source": [
    "plt.boxplot(df['discipline'])"
   ]
  },
  {
   "cell_type": "code",
   "execution_count": 27,
   "id": "ac67d31a",
   "metadata": {},
   "outputs": [
    {
     "data": {
      "text/plain": [
       "rank                AxesSubplot(0.125,0.657941;0.352273x0.222059)\n",
       "discipline       AxesSubplot(0.547727,0.657941;0.352273x0.222059)\n",
       "yrs.since.phd       AxesSubplot(0.125,0.391471;0.352273x0.222059)\n",
       "yrs.service      AxesSubplot(0.547727,0.391471;0.352273x0.222059)\n",
       "salary                 AxesSubplot(0.125,0.125;0.352273x0.222059)\n",
       "dtype: object"
      ]
     },
     "execution_count": 27,
     "metadata": {},
     "output_type": "execute_result"
    },
    {
     "data": {
      "image/png": "[encoded data removed]",
      "text/plain": [
       "<Figure size 1080x720 with 6 Axes>"
      ]
     },
     "metadata": {
      "needs_background": "light"
     },
     "output_type": "display_data"
    }
   ],
   "source": [
    "df.plot(kind='box',subplots=True,layout=(3,2),figsize=(15,10))"
   ]
  },
  {
   "cell_type": "markdown",
   "id": "3616544c",
   "metadata": {},
   "source": [
    "From above plots we can see that our dataset is with very few outliers"
   ]
  },
  {
   "cell_type": "markdown",
   "id": "442bc061",
   "metadata": {},
   "source": [
    "# Z score\n",
    "\n",
    "for removing  the outliers from dataset"
   ]
  },
  {
   "cell_type": "code",
   "execution_count": 28,
   "id": "4b1bd003",
   "metadata": {},
   "outputs": [],
   "source": [
    "from scipy.stats import zscore"
   ]
  },
  {
   "cell_type": "code",
   "execution_count": 29,
   "id": "36edb4b8",
   "metadata": {},
   "outputs": [
    {
     "data": {
      "text/plain": [
       "array([[0.64925739, 0.91540317, 0.25754973, 0.02966908, 0.86091884],\n",
       "       [0.64925739, 0.91540317, 0.17985426, 0.12429986, 1.96667226],\n",
       "       [0.67256406, 0.91540317, 1.42298184, 1.12509795, 1.12249537],\n",
       "       ...,\n",
       "       [0.64925739, 1.09241483, 1.52944617, 0.56856036, 0.39564018],\n",
       "       [0.64925739, 1.09241483, 0.20862311, 0.20128433, 0.60750187],\n",
       "       [0.67256406, 1.09241483, 1.11219995, 1.04811348, 1.08001725]])"
      ]
     },
     "execution_count": 29,
     "metadata": {},
     "output_type": "execute_result"
    }
   ],
   "source": [
    "z=np.abs(zscore(df))\n",
    "z"
   ]
  },
  {
   "cell_type": "code",
   "execution_count": 30,
   "id": "669d1e7a",
   "metadata": {},
   "outputs": [
    {
     "name": "stdout",
     "output_type": "stream",
     "text": [
      "(array([ 43, 131, 330, 364], dtype=int64), array([4, 3, 3, 4], dtype=int64))\n"
     ]
    }
   ],
   "source": [
    "thresshold=3\n",
    "print(np.where(z>3))\n"
   ]
  },
  {
   "cell_type": "code",
   "execution_count": 59,
   "id": "843bdbb5",
   "metadata": {},
   "outputs": [
    {
     "data": {
      "text/html": [
       "<div>\n",
       "<style scoped>\n",
       "    .dataframe tbody tr th:only-of-type {\n",
       "        vertical-align: middle;\n",
       "    }\n",
       "\n",
       "    .dataframe tbody tr th {\n",
       "        vertical-align: top;\n",
       "    }\n",
       "\n",
       "    .dataframe thead th {\n",
       "        text-align: right;\n",
       "    }\n",
       "</style>\n",
       "<table border=\"1\" class=\"dataframe\">\n",
       "  <thead>\n",
       "    <tr style=\"text-align: right;\">\n",
       "      <th></th>\n",
       "      <th>rank</th>\n",
       "      <th>discipline</th>\n",
       "      <th>yrs.since.phd</th>\n",
       "      <th>yrs.service</th>\n",
       "      <th>salary</th>\n",
       "    </tr>\n",
       "  </thead>\n",
       "  <tbody>\n",
       "    <tr>\n",
       "      <th>0</th>\n",
       "      <td>2</td>\n",
       "      <td>1</td>\n",
       "      <td>19</td>\n",
       "      <td>18</td>\n",
       "      <td>139750</td>\n",
       "    </tr>\n",
       "    <tr>\n",
       "      <th>1</th>\n",
       "      <td>2</td>\n",
       "      <td>1</td>\n",
       "      <td>20</td>\n",
       "      <td>16</td>\n",
       "      <td>173200</td>\n",
       "    </tr>\n",
       "    <tr>\n",
       "      <th>2</th>\n",
       "      <td>1</td>\n",
       "      <td>1</td>\n",
       "      <td>4</td>\n",
       "      <td>3</td>\n",
       "      <td>79750</td>\n",
       "    </tr>\n",
       "    <tr>\n",
       "      <th>3</th>\n",
       "      <td>2</td>\n",
       "      <td>1</td>\n",
       "      <td>45</td>\n",
       "      <td>39</td>\n",
       "      <td>115000</td>\n",
       "    </tr>\n",
       "    <tr>\n",
       "      <th>4</th>\n",
       "      <td>2</td>\n",
       "      <td>1</td>\n",
       "      <td>40</td>\n",
       "      <td>41</td>\n",
       "      <td>141500</td>\n",
       "    </tr>\n",
       "    <tr>\n",
       "      <th>...</th>\n",
       "      <td>...</td>\n",
       "      <td>...</td>\n",
       "      <td>...</td>\n",
       "      <td>...</td>\n",
       "      <td>...</td>\n",
       "    </tr>\n",
       "    <tr>\n",
       "      <th>392</th>\n",
       "      <td>2</td>\n",
       "      <td>0</td>\n",
       "      <td>33</td>\n",
       "      <td>30</td>\n",
       "      <td>103106</td>\n",
       "    </tr>\n",
       "    <tr>\n",
       "      <th>393</th>\n",
       "      <td>2</td>\n",
       "      <td>0</td>\n",
       "      <td>31</td>\n",
       "      <td>19</td>\n",
       "      <td>150564</td>\n",
       "    </tr>\n",
       "    <tr>\n",
       "      <th>394</th>\n",
       "      <td>2</td>\n",
       "      <td>0</td>\n",
       "      <td>42</td>\n",
       "      <td>25</td>\n",
       "      <td>101738</td>\n",
       "    </tr>\n",
       "    <tr>\n",
       "      <th>395</th>\n",
       "      <td>2</td>\n",
       "      <td>0</td>\n",
       "      <td>25</td>\n",
       "      <td>15</td>\n",
       "      <td>95329</td>\n",
       "    </tr>\n",
       "    <tr>\n",
       "      <th>396</th>\n",
       "      <td>1</td>\n",
       "      <td>0</td>\n",
       "      <td>8</td>\n",
       "      <td>4</td>\n",
       "      <td>81035</td>\n",
       "    </tr>\n",
       "  </tbody>\n",
       "</table>\n",
       "<p>393 rows × 5 columns</p>\n",
       "</div>"
      ],
      "text/plain": [
       "     rank  discipline  yrs.since.phd  yrs.service  salary\n",
       "0       2           1             19           18  139750\n",
       "1       2           1             20           16  173200\n",
       "2       1           1              4            3   79750\n",
       "3       2           1             45           39  115000\n",
       "4       2           1             40           41  141500\n",
       "..    ...         ...            ...          ...     ...\n",
       "392     2           0             33           30  103106\n",
       "393     2           0             31           19  150564\n",
       "394     2           0             42           25  101738\n",
       "395     2           0             25           15   95329\n",
       "396     1           0              8            4   81035\n",
       "\n",
       "[393 rows x 5 columns]"
      ]
     },
     "execution_count": 59,
     "metadata": {},
     "output_type": "execute_result"
    }
   ],
   "source": [
    "dfnew=df[(z<3).all(axis=1)]\n",
    "x=dfnew\n",
    "x"
   ]
  },
  {
   "cell_type": "code",
   "execution_count": 61,
   "id": "4e211d20",
   "metadata": {},
   "outputs": [
    {
     "data": {
      "text/plain": [
       "(393, 5)"
      ]
     },
     "execution_count": 61,
     "metadata": {},
     "output_type": "execute_result"
    }
   ],
   "source": [
    "x.shape"
   ]
  },
  {
   "cell_type": "code",
   "execution_count": 62,
   "id": "03c99e4a",
   "metadata": {},
   "outputs": [
    {
     "data": {
      "text/plain": [
       "(397,)"
      ]
     },
     "execution_count": 62,
     "metadata": {},
     "output_type": "execute_result"
    }
   ],
   "source": [
    "y.shape"
   ]
  },
  {
   "cell_type": "code",
   "execution_count": 63,
   "id": "fdcbc31e",
   "metadata": {},
   "outputs": [
    {
     "data": {
      "text/plain": [
       "(393, 4)"
      ]
     },
     "execution_count": 63,
     "metadata": {},
     "output_type": "execute_result"
    }
   ],
   "source": [
    "x=x.iloc[:,0:-1]\n",
    "x.shape"
   ]
  },
  {
   "cell_type": "code",
   "execution_count": 64,
   "id": "8f0c2a68",
   "metadata": {},
   "outputs": [
    {
     "data": {
      "text/plain": [
       "(393,)"
      ]
     },
     "execution_count": 64,
     "metadata": {},
     "output_type": "execute_result"
    }
   ],
   "source": [
    "y=x.iloc[:,-1]\n",
    "y.shape"
   ]
  },
  {
   "cell_type": "code",
   "execution_count": 65,
   "id": "70ee1b70",
   "metadata": {},
   "outputs": [
    {
     "data": {
      "text/plain": [
       "rank            -1.135734\n",
       "discipline      -0.179514\n",
       "yrs.since.phd    0.288531\n",
       "yrs.service      0.588861\n",
       "dtype: float64"
      ]
     },
     "execution_count": 65,
     "metadata": {},
     "output_type": "execute_result"
    }
   ],
   "source": [
    "x.skew()"
   ]
  },
  {
   "cell_type": "code",
   "execution_count": 52,
   "id": "c706ecf3",
   "metadata": {},
   "outputs": [],
   "source": [
    "#skewness Removel\n",
    "\n",
    "from sklearn.preprocessing  import power_transform"
   ]
  },
  {
   "cell_type": "code",
   "execution_count": 66,
   "id": "2b71e60d",
   "metadata": {},
   "outputs": [
    {
     "data": {
      "text/plain": [
       "array([[ 0.69481738,  0.91457564, -0.11344983,  0.26888583],\n",
       "       [ 0.69481738,  0.91457564, -0.03455335,  0.1209006 ],\n",
       "       [-1.0753989 ,  0.91457564, -1.6242611 , -1.28449532],\n",
       "       ...,\n",
       "       [ 0.69481738, -1.09340328,  1.42772852,  0.72581897],\n",
       "       [ 0.69481738, -1.09340328,  0.33874878,  0.04312953],\n",
       "       [-1.0753989 , -1.09340328, -1.12908354, -1.11979784]])"
      ]
     },
     "execution_count": 66,
     "metadata": {},
     "output_type": "execute_result"
    }
   ],
   "source": [
    "x=power_transform(x,method='yeo-johnson')\n",
    "x"
   ]
  },
  {
   "cell_type": "code",
   "execution_count": 67,
   "id": "d9a311f2",
   "metadata": {},
   "outputs": [],
   "source": [
    "from sklearn.preprocessing import StandardScaler"
   ]
  },
  {
   "cell_type": "code",
   "execution_count": 68,
   "id": "ce1b62c2",
   "metadata": {},
   "outputs": [],
   "source": [
    "ss=StandardScaler()"
   ]
  },
  {
   "cell_type": "code",
   "execution_count": 69,
   "id": "d4607704",
   "metadata": {},
   "outputs": [
    {
     "data": {
      "text/plain": [
       "array([[ 0.69481738,  0.91457564, -0.11344983,  0.26888583],\n",
       "       [ 0.69481738,  0.91457564, -0.03455335,  0.1209006 ],\n",
       "       [-1.0753989 ,  0.91457564, -1.6242611 , -1.28449532],\n",
       "       ...,\n",
       "       [ 0.69481738, -1.09340328,  1.42772852,  0.72581897],\n",
       "       [ 0.69481738, -1.09340328,  0.33874878,  0.04312953],\n",
       "       [-1.0753989 , -1.09340328, -1.12908354, -1.11979784]])"
      ]
     },
     "execution_count": 69,
     "metadata": {},
     "output_type": "execute_result"
    }
   ],
   "source": [
    "x=ss.fit_transform(x)\n",
    "x"
   ]
  },
  {
   "cell_type": "code",
   "execution_count": null,
   "id": "603afdeb",
   "metadata": {},
   "outputs": [],
   "source": []
  },
  {
   "cell_type": "code",
   "execution_count": null,
   "id": "12c4a82e",
   "metadata": {},
   "outputs": [],
   "source": []
  },
  {
   "cell_type": "code",
   "execution_count": null,
   "id": "711327ce",
   "metadata": {},
   "outputs": [],
   "source": []
  },
  {
   "cell_type": "markdown",
   "id": "6ca82aff",
   "metadata": {},
   "source": [
    "# Train test split\n",
    "\n",
    "Dividing the data in to train and test sets"
   ]
  },
  {
   "cell_type": "code",
   "execution_count": 70,
   "id": "f2aff48f",
   "metadata": {},
   "outputs": [],
   "source": [
    "x_train,x_test,y_train,y_test=train_test_split(x,y,test_size=.20,random_state=43)"
   ]
  },
  {
   "cell_type": "code",
   "execution_count": 71,
   "id": "37a8e446",
   "metadata": {},
   "outputs": [
    {
     "data": {
      "text/plain": [
       "(314, 4)"
      ]
     },
     "execution_count": 71,
     "metadata": {},
     "output_type": "execute_result"
    }
   ],
   "source": [
    "x_train.shape"
   ]
  },
  {
   "cell_type": "code",
   "execution_count": 72,
   "id": "655cd6ea",
   "metadata": {},
   "outputs": [
    {
     "data": {
      "text/plain": [
       "(79, 4)"
      ]
     },
     "execution_count": 72,
     "metadata": {},
     "output_type": "execute_result"
    }
   ],
   "source": [
    "x_test.shape"
   ]
  },
  {
   "cell_type": "code",
   "execution_count": 73,
   "id": "bada171b",
   "metadata": {},
   "outputs": [
    {
     "data": {
      "text/plain": [
       "(314,)"
      ]
     },
     "execution_count": 73,
     "metadata": {},
     "output_type": "execute_result"
    }
   ],
   "source": [
    "y_train.shape"
   ]
  },
  {
   "cell_type": "code",
   "execution_count": 74,
   "id": "8aa549a8",
   "metadata": {},
   "outputs": [
    {
     "data": {
      "text/plain": [
       "(79,)"
      ]
     },
     "execution_count": 74,
     "metadata": {},
     "output_type": "execute_result"
    }
   ],
   "source": [
    "y_test.shape"
   ]
  },
  {
   "cell_type": "markdown",
   "id": "4df56e0d",
   "metadata": {},
   "source": [
    "# Model-1"
   ]
  },
  {
   "cell_type": "code",
   "execution_count": 75,
   "id": "dcf7b265",
   "metadata": {},
   "outputs": [],
   "source": [
    "from sklearn.linear_model import LinearRegression"
   ]
  },
  {
   "cell_type": "code",
   "execution_count": 76,
   "id": "371d6a8b",
   "metadata": {},
   "outputs": [],
   "source": [
    "lr=LinearRegression()"
   ]
  },
  {
   "cell_type": "code",
   "execution_count": 77,
   "id": "6f471173",
   "metadata": {},
   "outputs": [
    {
     "data": {
      "text/plain": [
       "LinearRegression()"
      ]
     },
     "execution_count": 77,
     "metadata": {},
     "output_type": "execute_result"
    }
   ],
   "source": [
    "lr.fit(x_train,y_train)"
   ]
  },
  {
   "cell_type": "code",
   "execution_count": 78,
   "id": "d640c71d",
   "metadata": {},
   "outputs": [
    {
     "data": {
      "text/plain": [
       "0.9484604981149093"
      ]
     },
     "execution_count": 78,
     "metadata": {},
     "output_type": "execute_result"
    }
   ],
   "source": [
    "lr.score(x_train,y_train)"
   ]
  },
  {
   "cell_type": "code",
   "execution_count": 79,
   "id": "19c31ee4",
   "metadata": {},
   "outputs": [],
   "source": [
    "predlr=lr.predict(x_test)"
   ]
  },
  {
   "cell_type": "code",
   "execution_count": 80,
   "id": "0b86b9e9",
   "metadata": {},
   "outputs": [
    {
     "name": "stdout",
     "output_type": "stream",
     "text": [
      "error\n",
      "Mean Absolute Error 2.050998108367194\n",
      "Mean Squared Error 6.105504318913956\n",
      "Root Mean Squared Error 2.4709318725764082\n"
     ]
    }
   ],
   "source": [
    "print('error')\n",
    "\n",
    "print('Mean Absolute Error',mean_absolute_error(y_test,predlr))\n",
    "print('Mean Squared Error',mean_squared_error(y_test,predlr))\n",
    "print('Root Mean Squared Error',np.sqrt(mean_squared_error(y_test,predlr)))"
   ]
  },
  {
   "cell_type": "markdown",
   "id": "cda4d830",
   "metadata": {},
   "source": [
    "# R2 score"
   ]
  },
  {
   "cell_type": "code",
   "execution_count": 81,
   "id": "dcbde496",
   "metadata": {},
   "outputs": [
    {
     "name": "stdout",
     "output_type": "stream",
     "text": [
      "0.953646135738495\n"
     ]
    }
   ],
   "source": [
    "print(r2_score(y_test,predlr))"
   ]
  },
  {
   "cell_type": "markdown",
   "id": "e6b01566",
   "metadata": {},
   "source": [
    "# Model--2"
   ]
  },
  {
   "cell_type": "code",
   "execution_count": 82,
   "id": "8b52fdcd",
   "metadata": {},
   "outputs": [],
   "source": [
    "from  sklearn.neighbors import KNeighborsRegressor"
   ]
  },
  {
   "cell_type": "code",
   "execution_count": 83,
   "id": "09751af0",
   "metadata": {},
   "outputs": [],
   "source": [
    "knn=KNeighborsRegressor(n_neighbors=5)\n",
    "knn.fit(x_train,y_train)\n",
    "knn.score(x_train,y_train)\n",
    "pred=knn.predict(x_test)"
   ]
  },
  {
   "cell_type": "code",
   "execution_count": 84,
   "id": "b8160a0b",
   "metadata": {},
   "outputs": [
    {
     "name": "stdout",
     "output_type": "stream",
     "text": [
      "error\n",
      "Mean Absolute Error 0.9544303797468355\n",
      "Mean Squared Error 1.877974683544305\n",
      "Root Mean Squared Error 1.370392164142916\n"
     ]
    }
   ],
   "source": [
    "print('error')\n",
    "\n",
    "print('Mean Absolute Error',mean_absolute_error(y_test,pred))\n",
    "print('Mean Squared Error',mean_squared_error(y_test,pred))\n",
    "print('Root Mean Squared Error',np.sqrt(mean_squared_error(y_test,pred)))"
   ]
  },
  {
   "cell_type": "markdown",
   "id": "ebb21d07",
   "metadata": {},
   "source": [
    "# R2 score"
   ]
  },
  {
   "cell_type": "code",
   "execution_count": 85,
   "id": "7caf25de",
   "metadata": {},
   "outputs": [
    {
     "name": "stdout",
     "output_type": "stream",
     "text": [
      "0.9857421469184973\n"
     ]
    }
   ],
   "source": [
    "print(r2_score(y_test,pred))"
   ]
  },
  {
   "cell_type": "markdown",
   "id": "c1fce064",
   "metadata": {},
   "source": [
    "# Modle-3"
   ]
  },
  {
   "cell_type": "code",
   "execution_count": 86,
   "id": "6796caeb",
   "metadata": {},
   "outputs": [],
   "source": [
    "from sklearn.tree import DecisionTreeRegressor"
   ]
  },
  {
   "cell_type": "code",
   "execution_count": 87,
   "id": "5ac5c510",
   "metadata": {},
   "outputs": [],
   "source": [
    "dt=DecisionTreeRegressor()"
   ]
  },
  {
   "cell_type": "code",
   "execution_count": 88,
   "id": "1c9dd80a",
   "metadata": {},
   "outputs": [
    {
     "data": {
      "text/plain": [
       "DecisionTreeRegressor()"
      ]
     },
     "execution_count": 88,
     "metadata": {},
     "output_type": "execute_result"
    }
   ],
   "source": [
    "dt.fit(x_train,y_train)"
   ]
  },
  {
   "cell_type": "code",
   "execution_count": 89,
   "id": "7606e933",
   "metadata": {},
   "outputs": [
    {
     "data": {
      "text/plain": [
       "1.0"
      ]
     },
     "execution_count": 89,
     "metadata": {},
     "output_type": "execute_result"
    }
   ],
   "source": [
    "dt.score(x_train,y_train)"
   ]
  },
  {
   "cell_type": "code",
   "execution_count": 92,
   "id": "0be60af8",
   "metadata": {},
   "outputs": [
    {
     "name": "stdout",
     "output_type": "stream",
     "text": [
      "error\n",
      "Mean Absolute Error 0.9544303797468355\n",
      "Mean Squared Error 1.877974683544305\n",
      "Root Mean Squared Error 1.370392164142916\n"
     ]
    }
   ],
   "source": [
    "print('error')\n",
    "\n",
    "print('Mean Absolute Error',mean_absolute_error(y_test,pred))\n",
    "print('Mean Squared Error',mean_squared_error(y_test,pred))\n",
    "print('Root Mean Squared Error',np.sqrt(mean_squared_error(y_test,pred)))"
   ]
  },
  {
   "cell_type": "markdown",
   "id": "0e947034",
   "metadata": {},
   "source": [
    "# R2 score"
   ]
  },
  {
   "cell_type": "code",
   "execution_count": 93,
   "id": "79a1ba5e",
   "metadata": {},
   "outputs": [
    {
     "name": "stdout",
     "output_type": "stream",
     "text": [
      "0.9857421469184973\n"
     ]
    }
   ],
   "source": [
    "print(r2_score(y_test,pred))"
   ]
  },
  {
   "cell_type": "markdown",
   "id": "af660282",
   "metadata": {},
   "source": [
    "# Saving the model"
   ]
  },
  {
   "cell_type": "code",
   "execution_count": 94,
   "id": "e2043ae4",
   "metadata": {},
   "outputs": [],
   "source": [
    "import joblib"
   ]
  },
  {
   "cell_type": "code",
   "execution_count": 96,
   "id": "a20771d2",
   "metadata": {},
   "outputs": [],
   "source": [
    "joblib.dump(dt,'dtfile.obj')\n",
    "dt_from_joblib=joblib.load('dtfile.obj')\n"
   ]
  },
  {
   "cell_type": "code",
   "execution_count": null,
   "id": "9e9a6397",
   "metadata": {},
   "outputs": [],
   "source": []
  }
 ],
 "metadata": {
  "kernelspec": {
   "display_name": "Python 3",
   "language": "python",
   "name": "python3"
  },
  "language_info": {
   "codemirror_mode": {
    "name": "ipython",
    "version": 3
   },
   "file_extension": ".py",
   "mimetype": "text/x-python",
   "name": "python",
   "nbconvert_exporter": "python",
   "pygments_lexer": "ipython3",
   "version": "3.8.8"
  }
 },
 "nbformat": 4,
 "nbformat_minor": 5
}
